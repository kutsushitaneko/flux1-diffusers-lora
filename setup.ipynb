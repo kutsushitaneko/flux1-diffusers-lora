{
 "cells": [
  {
   "cell_type": "code",
   "execution_count": null,
   "id": "f9c38fd9-e624-437e-b9f4-b3c436fa1923",
   "metadata": {},
   "outputs": [],
   "source": [
    "#%pip list"
   ]
  },
  {
   "cell_type": "code",
   "execution_count": null,
   "id": "1f1f5c76-46be-429b-9b4c-f6e51550aa4d",
   "metadata": {},
   "outputs": [],
   "source": [
    "%pip install -U torch torchvision torchaudio --index-url https://download.pytorch.org/whl/cu121"
   ]
  },
  {
   "cell_type": "code",
   "execution_count": null,
   "id": "f8d4938a-883b-4346-b068-32c13a7dac34",
   "metadata": {},
   "outputs": [],
   "source": [
    "%pip install -r requirements.txt"
   ]
  },
  {
   "cell_type": "code",
   "execution_count": null,
   "id": "d2833dce-def3-42db-bdf4-08f549b0fc39",
   "metadata": {},
   "outputs": [],
   "source": [
    "from huggingface_hub import notebook_login\n",
    "notebook_login()"
   ]
  },
  {
   "cell_type": "code",
   "execution_count": null,
   "id": "c23a671d-6dba-44b4-80d0-5ecc0fcc7f2f",
   "metadata": {},
   "outputs": [],
   "source": [
    "%pip show torch"
   ]
  }
 ],
 "metadata": {
  "kernelspec": {
   "display_name": "Python 3 (ipykernel)",
   "language": "python",
   "name": "python3"
  },
  "language_info": {
   "codemirror_mode": {
    "name": "ipython",
    "version": 3
   },
   "file_extension": ".py",
   "mimetype": "text/x-python",
   "name": "python",
   "nbconvert_exporter": "python",
   "pygments_lexer": "ipython3",
   "version": "3.10.12"
  }
 },
 "nbformat": 4,
 "nbformat_minor": 5
}
