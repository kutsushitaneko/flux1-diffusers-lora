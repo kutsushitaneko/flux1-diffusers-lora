{
 "cells": [
  {
   "cell_type": "code",
   "execution_count": null,
   "metadata": {},
   "outputs": [],
   "source": [
    "import torch\n",
    "from diffusers import FluxPipeline\n",
    "import time\n",
    "import ipywidgets"
   ]
  },
  {
   "cell_type": "code",
   "execution_count": null,
   "metadata": {},
   "outputs": [],
   "source": [
    "pipe = FluxPipeline.from_pretrained(\n",
    "    \"black-forest-labs/FLUX.1-dev\",\n",
    "    torch_dtype=torch.bfloat16\n",
    ")\n",
    "pipe.to(\"cuda\")"
   ]
  },
  {
   "cell_type": "code",
   "execution_count": null,
   "metadata": {},
   "outputs": [],
   "source": [
    "test_case = \"121\"\n",
    "start_time = time.time()\n",
    "image = pipe(\n",
    "    prompt=\"Photo of a cute Japanese idle singer girl, long black hair, She is singing ,holding a microphone, wearing Taisho Romantic Hakama costume, standing on the stage .This is a flashy concert with 3D holograms and laser effects\",\n",
    "    height=1360,\n",
    "    width=768,\n",
    "    guidance_scale=3.5,\n",
    "    output_type=\"pil\",\n",
    "    num_inference_steps=20,\n",
    "    max_sequence_length=512,\n",
    "    generator=torch.Generator(\"cpu\").manual_seed(523233344),\n",
    "    joint_attention_kwargs={\"scale\": 1.0}\n",
    ").images[0]\n",
    "end_time = time.time()\n",
    "print(f\"画像生成時間: {end_time - start_time} 秒\")\n",
    "image.save(f\"output/{test_case}.png\")\n"
   ]
  },
  {
   "cell_type": "code",
   "execution_count": null,
   "metadata": {},
   "outputs": [],
   "source": [
    "image"
   ]
  },
  {
   "cell_type": "code",
   "execution_count": null,
   "metadata": {},
   "outputs": [],
   "source": [
    "test_case = \"122\"\n",
    "start_time = time.time()\n",
    "image = pipe(\n",
    "    prompt=\"modern anime style, a cute Japanese idle singer girl, long black hair, She is singing ,holding a microphone, wearing Taisho Romantic Hakama costume, standing on the stage .This is a flashy concert with 3D holograms and laser effects\",\n",
    "    height=1360,\n",
    "    width=768,\n",
    "    guidance_scale=3.5,\n",
    "    output_type=\"pil\",\n",
    "    num_inference_steps=20,\n",
    "    max_sequence_length=512,\n",
    "    generator=torch.Generator(\"cpu\").manual_seed(523233344),\n",
    "    joint_attention_kwargs={\"scale\": 1.0}\n",
    ").images[0]\n",
    "end_time = time.time()\n",
    "print(f\"画像生成時間: {end_time - start_time} 秒\")\n",
    "image.save(f\"output/{test_case}.png\")"
   ]
  },
  {
   "cell_type": "code",
   "execution_count": null,
   "metadata": {},
   "outputs": [],
   "source": [
    "image"
   ]
  },
  {
   "cell_type": "code",
   "execution_count": null,
   "metadata": {},
   "outputs": [],
   "source": [
    "pipe.load_lora_weights(\n",
    "    pretrained_model_name_or_path_or_dict=\"XLabs-AI/flux-RealismLora\",\n",
    "    weight_name=\"lora.safetensors\"\n",
    ")"
   ]
  },
  {
   "cell_type": "code",
   "execution_count": null,
   "metadata": {},
   "outputs": [],
   "source": [
    "test_case = \"123\"\n",
    "start_time = time.time()\n",
    "image = pipe(\n",
    "    prompt=\"Photo of a cute Japanese idle singer girl, long black hair, She is singing ,holding a microphone, wearing Taisho Romantic Hakama costume, standing on the stage .This is a flashy concert with 3D holograms and laser effects\",\n",
    "    height=1360,\n",
    "    width=768,\n",
    "    guidance_scale=3.5,\n",
    "    output_type=\"pil\",\n",
    "    num_inference_steps=20,\n",
    "    max_sequence_length=512,\n",
    "    generator=torch.Generator(\"cpu\").manual_seed(523233344),\n",
    "    joint_attention_kwargs={\"scale\": 1.0}\n",
    ").images[0]\n",
    "end_time = time.time()\n",
    "print(f\"画像生成時間: {end_time - start_time} 秒\")\n",
    "image.save(f\"output/{test_case}.png\")"
   ]
  },
  {
   "cell_type": "code",
   "execution_count": null,
   "metadata": {},
   "outputs": [],
   "source": [
    "image"
   ]
  },
  {
   "cell_type": "code",
   "execution_count": null,
   "metadata": {},
   "outputs": [],
   "source": [
    "test_case = \"124\"\n",
    "start_time = time.time()\n",
    "image = pipe(\n",
    "    prompt=\"modern anime style, a cute Japanese idle singer girl, long black hair, She is singing ,holding a microphone, wearing Taisho Romantic Hakama costume, standing on the stage .This is a flashy concert with 3D holograms and laser effects\",\n",
    "    height=1360,\n",
    "    width=768,\n",
    "    guidance_scale=3.5,\n",
    "    output_type=\"pil\",\n",
    "    num_inference_steps=20,\n",
    "    max_sequence_length=512,\n",
    "    generator=torch.Generator(\"cpu\").manual_seed(523233344),\n",
    "    joint_attention_kwargs={\"scale\": 1.0}\n",
    ").images[0]\n",
    "end_time = time.time()\n",
    "print(f\"画像生成時間: {end_time - start_time} 秒\")\n",
    "image.save(f\"output/{test_case}.png\")"
   ]
  },
  {
   "cell_type": "code",
   "execution_count": null,
   "metadata": {},
   "outputs": [],
   "source": [
    "image"
   ]
  }
 ],
 "metadata": {
  "kernelspec": {
   "display_name": "Python 3 (ipykernel)",
   "language": "python",
   "name": "python3"
  },
  "language_info": {
   "codemirror_mode": {
    "name": "ipython",
    "version": 3
   },
   "file_extension": ".py",
   "mimetype": "text/x-python",
   "name": "python",
   "nbconvert_exporter": "python",
   "pygments_lexer": "ipython3",
   "version": "3.10.12"
  }
 },
 "nbformat": 4,
 "nbformat_minor": 4
}
